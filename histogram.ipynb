{
 "cells": [
  {
   "cell_type": "markdown",
   "metadata": {},
   "source": [
    "## Import Library"
   ]
  },
  {
   "cell_type": "markdown",
   "metadata": {},
   "source": []
  },
  {
   "cell_type": "code",
   "execution_count": 2,
   "metadata": {},
   "outputs": [],
   "source": [
    "import cv2\n",
    "import numpy as np\n",
    "import matplotlib.pyplot as plt"
   ]
  },
  {
   "cell_type": "markdown",
   "metadata": {},
   "source": [
    "## Image Sampling"
   ]
  },
  {
   "cell_type": "code",
   "execution_count": 3,
   "metadata": {},
   "outputs": [],
   "source": [
    "# load gambar yang ingin dipakai dengan matplotlib\n",
    "\n",
    "image = plt.imread(\"imageSrc/histogram1.png\")"
   ]
  },
  {
   "cell_type": "code",
   "execution_count": 4,
   "metadata": {},
   "outputs": [
    {
     "name": "stdout",
     "output_type": "stream",
     "text": [
      "height: 411\n",
      "width: 389\n"
     ]
    }
   ],
   "source": [
    "# mengambil shape dari height gambar\n",
    "height = image.shape[0]\n",
    "\n",
    "# mengambil shape dari width gambar\n",
    "width = image.shape[1]\n",
    "\n",
    "# tampilkan shape dari height dan width yang telah diambil\n",
    "print(f\"height: {height}\")\n",
    "print(f\"width: {width}\")"
   ]
  },
  {
   "cell_type": "code",
   "execution_count": 5,
   "metadata": {},
   "outputs": [
    {
     "name": "stdout",
     "output_type": "stream",
     "text": [
      "numHeight: 25\n",
      "numWidth: 24\n"
     ]
    }
   ],
   "source": [
    "# Menghitung nilai height yang dibagi 16 dan menyimpannya dalam variabel numHeight.\n",
    "numHeight = int(height/16)\n",
    "\n",
    "# Menghitung nilai width yang dibagi 16 dan menyimpannya dalam variabel numWidth.\n",
    "numWidth = int(width/16)\n",
    "\n",
    "# Menampilkan hasil pembagian height dengan 16 sebagai NumHeight.\n",
    "print(f\"numHeight: {numHeight}\")\n",
    "\n",
    "# Menampilkan hasil pembagian width dengan 16 sebagai NumWidth\n",
    "print(f\"numWidth: {numWidth}\")"
   ]
  },
  {
   "cell_type": "code",
   "execution_count": null,
   "metadata": {},
   "outputs": [
    {
     "name": "stdout",
     "output_type": "stream",
     "text": [
      "1.0\n",
      "1.0\n",
      "1.0\n",
      "1.0\n",
      "1.0\n",
      "1.0\n",
      "0.29411766\n",
      "0.7529412\n",
      "0.41960785\n",
      "0.29411766\n",
      "0.7529412\n",
      "0.41960785\n",
      "0.29411766\n",
      "0.7529412\n",
      "0.41960785\n",
      "0.30980393\n",
      "0.75686276\n",
      "0.43137255\n",
      "0.37254903\n",
      "0.8352941\n",
      "0.6431373\n",
      "0.37254903\n",
      "0.8352941\n",
      "0.6431373\n",
      "0.34901962\n",
      "0.76862746\n",
      "0.58431375\n",
      "0.6901961\n",
      "0.81960785\n",
      "0.92156863\n",
      "0.32156864\n",
      "0.49019608\n",
      "0.6156863\n",
      "0.16862746\n",
      "0.10980392\n",
      "0.015686275\n",
      "0.5372549\n",
      "0.8352941\n",
      "0.61960787\n",
      "0.3372549\n",
      "0.76862746\n",
      "0.45882353\n",
      "0.29411766\n",
      "0.7529412\n",
      "0.41960785\n",
      "0.29411766\n",
      "0.7529412\n",
      "0.41960785\n"
     ]
    }
   ],
   "source": [
    "# Membuat gambar baru dengan ukuran yang sama seperti gambar asli, diisi dengan piksel hitam (nilai nol).\n",
    "newImg = np.zeros((height, width, 3), np.uint8)\n",
    "\n",
    "# Melakukan iterasi sebanyak 16 kali untuk mengatur koordinat y dan x.\n",
    "for i in range(16):\n",
    "\n",
    "    # Menghitung posisi y berdasarkan indeks iterasi dikali numHeight.\n",
    "    y = i * numHeight\n",
    "\n",
    "    # Menghitung posisi x berdasarkan indeks iterasi dikali numWidth.\n",
    "    x = i * numWidth\n",
    "\n",
    "    # Mengambil nilai kanal biru (B) dari gambar asli pada posisi (y, x).\n",
    "    b = image[y, x][0]\n",
    "\n",
    "    # Mengambil nilai kanal hijau (G) dari gambar asli pada posisi (y, x).\n",
    "    g = image[y, x][1]\n",
    "\n",
    "    # Mengambil nilai kanal merah (R) dari gambar asli pada posisi (y, x).\n",
    "    r = image[y, x][2]\n",
    "\n",
    "    print(b)\n",
    "    print(g)\n",
    "    print(r)"
   ]
  },
  {
   "cell_type": "markdown",
   "metadata": {},
   "source": [
    "### Lab 1: Turn literal array of numbers into image"
   ]
  },
  {
   "cell_type": "code",
   "execution_count": null,
   "metadata": {},
   "outputs": [],
   "source": [
    "arr1 = np.arange(10)\n",
    "arr2 = np.arange(5, 10)\n",
    "arr4 = np.arange(0.0, 10, 0.5, dtype=float)\n",
    "\n",
    "print(f\"arr1:\\n{arr1}\")\n",
    "print(f\"arr2:\\n{arr2}\")\n",
    "print(f\"arr4:\\n{arr4}\")\n",
    "\n",
    "height, width = 100, 200\n",
    "data = np.zeros((height, width, 3), dtype=np.uint8)\n",
    "data[:, :, 2] = 255\n",
    "\n",
    "print(f\"\\n{data}\\n\")\n",
    "\n",
    "# declaring 3d array primitively\n",
    "\n",
    "array_3d = [\n",
    "    [\n",
    "        [1, 2, 3],\n",
    "        [5, 6, 7],\n",
    "        [8, 9, 10]\n",
    "    ],\n",
    "    [\n",
    "        [11, 12, 13],\n",
    "        [14, 15, 16],\n",
    "        [17, 18, 19]\n",
    "    ]\n",
    "]\n",
    "print(array_3d[1][0][0])\n",
    "\n",
    "plt.imshow(data)\n",
    "plt.show()"
   ]
  },
  {
   "cell_type": "code",
   "execution_count": 9,
   "metadata": {},
   "outputs": [],
   "source": [
    "# Memberi nama jendela tampilan dengan nama 'New Image'.\n",
    "\n",
    "# Mengonversi gambar baru dari format BGR ke RGB agar sesuai dengan format warna Matplotlib.\n",
    "\n",
    "# Menampilkan gambar menggunakan Matplotlib."
   ]
  },
  {
   "cell_type": "code",
   "execution_count": 10,
   "metadata": {},
   "outputs": [],
   "source": [
    "# Melakukan iterasi melalui setiap baris gambar sebanyak numHeight.\n",
    "# for i in range(numHeight):\n",
    "\n",
    "# Melakukan iterasi melalui setiap kolom gambar sebanyak numWidth.\n",
    "    # for j in range(numWidth):\n",
    "\n",
    "# Mengisi nilai channel biru (B) piksel pada gambar baru dengan nilai b.\n",
    "        # newImg[y+i,x+j][0] = np.uint8(b)\n",
    "\n",
    "# Mengisi nilai channel hijau (G) piksel pada gambar baru dengan nilai g.\n",
    "        # newImg[][] = np.uint8(g)\n",
    "\n",
    "# Mengisi nilai channel merah (R) piksel pada gambar baru dengan nilai r.\n",
    "        # newImg[][] = np.uint8(r)\n"
   ]
  },
  {
   "cell_type": "code",
   "execution_count": 11,
   "metadata": {},
   "outputs": [],
   "source": [
    "# Memberi nama jendela tampilan dengan nama 'New Image'.\n",
    "\n",
    "# Mengonversi gambar baru dari format BGR ke RGB agar sesuai dengan format warna Matplotlib.\n",
    "\n",
    "# Menampilkan gambar menggunakan Matplotlib."
   ]
  },
  {
   "cell_type": "markdown",
   "metadata": {},
   "source": [
    "## Image Quantization"
   ]
  },
  {
   "cell_type": "code",
   "execution_count": 12,
   "metadata": {},
   "outputs": [],
   "source": [
    "# load gambar yang ingin dipakai dengan matplotlib"
   ]
  },
  {
   "cell_type": "code",
   "execution_count": 13,
   "metadata": {},
   "outputs": [],
   "source": [
    "# mengambil shape dari height gambar\n",
    "# height =\n",
    "\n",
    "# mengambil shape dari width gambar\n",
    "# width = \n",
    "\n",
    "# tampilkan shape dari height dan width yang telah diambil"
   ]
  },
  {
   "cell_type": "markdown",
   "metadata": {},
   "source": [
    "### Level 2"
   ]
  },
  {
   "cell_type": "code",
   "execution_count": 14,
   "metadata": {},
   "outputs": [],
   "source": [
    "# Membuat gambar baru dengan ukuran yang sama seperti gambar asli, berisi piksel hitam (0).\n",
    "# newImg = np.zeros((height, width, 3), np.uint8)\n",
    "\n",
    "# Melakukan iterasi melalui setiap baris gambar sesuai nilai height.\n",
    "# for i in range(height):\n",
    "\n",
    "# Melakukan iterasi melalui setiap kolom gambar sesuai nilai width.\n",
    "    # for j in range(width):\n",
    "\n",
    "# Melakukan iterasi melalui setiap channel warna (B, G, R).\n",
    "        # for k in range(3):\n",
    "\n",
    "# Memeriksa nilai intensitas piksel pada setiap channel: 1). Jika nilai piksel kurang dari 128, ubah ke hitam (gray = 0), dan 2). Jika nilai piksel lebih besar atau sama dengan 128, ubah ke abu-abu terang (gray = 128).\n",
    "            # if image[,][] < 128:\n",
    "                # gray = \n",
    "            # else:\n",
    "                # gray =\n",
    "# Mengisi piksel pada gambar baru dengan nilai intensitas yang sudah dikonversi ke tipe uint8.\n",
    "            # newImg[,][] = np.uint8(gray)"
   ]
  },
  {
   "cell_type": "code",
   "execution_count": 15,
   "metadata": {},
   "outputs": [],
   "source": [
    "# Mengatur nama jendela untuk menampilkan gambar: 'New Image Level 2'.\n",
    "\n",
    "# Mengonversi gambar baru dari format BGR ke RGB agar sesuai dengan format warna Matplotlib.\n",
    "\n",
    "# Menampilkan gambar menggunakan Matplotlib."
   ]
  },
  {
   "cell_type": "markdown",
   "metadata": {},
   "source": [
    "### Level 4"
   ]
  },
  {
   "cell_type": "code",
   "execution_count": 16,
   "metadata": {},
   "outputs": [],
   "source": [
    "# Membuat gambar baru dengan ukuran yang sama seperti gambar asli, berisi piksel hitam (0).\n",
    "# newImg2 = np.zeros((height, width, 3), np.uint8)\n",
    "\n",
    "# Melakukan iterasi melalui setiap baris gambar sesuai nilai height.\n",
    "# for i in range(height):\n",
    "\n",
    "# Melakukan iterasi melalui setiap kolom gambar sesuai nilai width.\n",
    "    # for j in range(width):\n",
    "\n",
    "# Melakukan iterasi melalui setiap channel warna (B, G, R).\n",
    "        # for k in range(3):\n",
    "\n",
    "# Memeriksa nilai intensitas piksel pada setiap channel:\n",
    "# 1). Jika nilai piksel kurang dari 64, ubah ke hitam (gray = 0).\n",
    "# 2). Jika nilai piksel antara 64 dan 128, ubah ke abu-abu muda (gray = 64).\n",
    "# 3). Jika nilai piksel antara 128 dan 192, ubah ke abu-abu sedang (gray = 128).\n",
    "# 4). Jika nilai piksel lebih besar atau sama dengan 192, ubah ke abu-abu terang (gray = 192).\n",
    "\n",
    "            # if image[,][] < 64:\n",
    "            #     gray = \n",
    "            # elif image[,][k] < 128:\n",
    "            #     gray = \n",
    "            # elif image[,][] < 192:\n",
    "            #     gray = \n",
    "            # elif image[,][] >= 192:\n",
    "            #     gray = \n",
    "\n",
    "# Mengisi piksel pada gambar baru dengan nilai intensitas yang sudah dikonversi ke tipe uint8.\n"
   ]
  },
  {
   "cell_type": "code",
   "execution_count": 17,
   "metadata": {},
   "outputs": [],
   "source": [
    "# Mengatur nama jendela untuk menampilkan gambar: 'New Image Level 4'.\n",
    "\n",
    "# Mengonversi gambar baru dari format BGR ke RGB agar sesuai dengan format warna Matplotlib.\n",
    "\n",
    "# Menampilkan gambar menggunakan Matplotlib."
   ]
  },
  {
   "cell_type": "markdown",
   "metadata": {},
   "source": [
    "### Level 8"
   ]
  },
  {
   "cell_type": "code",
   "execution_count": 18,
   "metadata": {},
   "outputs": [],
   "source": [
    "# Membuat gambar baru dengan ukuran yang sama seperti gambar asli, berisi piksel hitam (0).\n",
    "\n",
    "# Melakukan iterasi melalui setiap baris gambar sesuai nilai height.\n",
    "\n",
    "# Melakukan iterasi melalui setiap kolom gambar sesuai nilai width.\n",
    "\n",
    "# Melakukan iterasi melalui setiap channel warna (B, G, R).\n",
    "\n",
    "# Memeriksa nilai intensitas piksel pada setiap channel:\n",
    "# 1). Jika nilai piksel kurang dari 32, ubah ke hitam (gray = 0).\n",
    "# 2). Jika nilai piksel antara 32 dan 63, ubah ke abu-abu sangat gelap (gray = 32).\n",
    "# 3). Jika nilai piksel antara 64 dan 95, ubah ke abu-abu gelap (gray = 64).\n",
    "# 4). Jika nilai piksel antara 96 dan 127, ubah ke abu-abu sedang (gray = 96).\n",
    "# 5). Jika nilai piksel antara 128 dan 159, ubah ke abu-abu cerah (gray = 128).\n",
    "# 6). Jika nilai piksel antara 160 dan 191, ubah ke abu-abu lebih cerah (gray = 160).\n",
    "# 7). Jika nilai piksel antara 192 dan 223, ubah ke abu-abu terang (gray = 192).\n",
    "# 8). Jika nilai piksel lebih besar atau sama dengan 224, ubah ke putih terang (gray = 224).\n",
    "\n",
    "# Mengisi piksel pada gambar baru dengan nilai intensitas yang sudah dikonversi ke tipe uint8.\n"
   ]
  },
  {
   "cell_type": "code",
   "execution_count": 19,
   "metadata": {},
   "outputs": [],
   "source": [
    "# Mengatur nama jendela untuk menampilkan gambar: 'New Image Level 8'.\n",
    "\n",
    "# Mengonversi gambar baru dari format BGR ke RGB agar sesuai dengan format warna Matplotlib.\n",
    "\n",
    "# Menampilkan gambar menggunakan Matplotlib."
   ]
  },
  {
   "cell_type": "markdown",
   "metadata": {},
   "source": [
    "## Histogram Calculation"
   ]
  },
  {
   "cell_type": "code",
   "execution_count": 20,
   "metadata": {},
   "outputs": [],
   "source": [
    "# load gambar yang ingin dipakai dengan matplotlib\n",
    "# img ="
   ]
  },
  {
   "cell_type": "code",
   "execution_count": 21,
   "metadata": {},
   "outputs": [],
   "source": [
    "# Menghitung histogram gambar untuk channel warna pertama (channel 0, biasanya Blue di OpenCV).\n",
    "# hist = cv2.calcHist([img], [0], None, [], [,])\n",
    "\n",
    "# Menggambar histogram menggunakan Matplotlib."
   ]
  },
  {
   "cell_type": "markdown",
   "metadata": {},
   "source": [
    "## Application of Mask in Histogram"
   ]
  },
  {
   "cell_type": "code",
   "execution_count": 22,
   "metadata": {},
   "outputs": [],
   "source": [
    "# Membaca gambar dalam mode grayscale\n",
    "# he2 = "
   ]
  },
  {
   "cell_type": "code",
   "execution_count": 23,
   "metadata": {},
   "outputs": [],
   "source": [
    "# Membuat mask hitam (0) dengan ukuran sama seperti gambar\n",
    "# mask = np.zeros(he2.shape[:2], np.uint8)\n",
    "\n",
    "# Mengisi area persegi panjang tertentu dengan putih (255)\n",
    "# mask[,] = 255\n",
    "\n",
    "# Mengaplikasikan mask ke gambar asli dengan operasi AND\n",
    "# masked_img = cv2.bitwise_and(...)"
   ]
  },
  {
   "cell_type": "code",
   "execution_count": 24,
   "metadata": {},
   "outputs": [],
   "source": [
    "# Menghitung histogram gambar asli dan gambar yang sudah dimasking\n",
    "# hist_full = cv2.calcHist([], [], None, [], [,])\n",
    "# hist_full = cv2.calcHist([], [], mask, [], [,])"
   ]
  },
  {
   "cell_type": "code",
   "execution_count": 25,
   "metadata": {},
   "outputs": [],
   "source": [
    "# Menampilkan gambar dan histogram"
   ]
  },
  {
   "cell_type": "markdown",
   "metadata": {},
   "source": [
    "## Histogram Equalization"
   ]
  },
  {
   "cell_type": "code",
   "execution_count": 26,
   "metadata": {},
   "outputs": [],
   "source": [
    "# Membaca gambar dalam mode grayscale\n",
    "\n",
    "# Melakukan histogram equalization\n",
    "# equ = cv2.equalizeHist(...)\n",
    "\n",
    "# Menggabungkan gambar asli dan hasil equalization secara horizontal\n",
    "# res = np.hstack((..., equ))\n",
    "\n",
    "# Mengonversi format gambar untuk ditampilkan dengan Matplotlib\n",
    "\n",
    "# Menampilkan hasil dengan Matplotlib\n",
    "\n",
    "\n"
   ]
  },
  {
   "cell_type": "markdown",
   "metadata": {},
   "source": [
    "## 2D Histogram"
   ]
  },
  {
   "cell_type": "code",
   "execution_count": 27,
   "metadata": {},
   "outputs": [],
   "source": [
    "# Membaca gambar\n",
    "\n",
    "# Mengubah gambar dari BGR ke HSV\n",
    "# hsv = cv2.cvtColor(...)\n",
    "\n",
    "# Menghitung histogram 2D untuk Hue dan Saturation\n",
    "# hist = cv2.calcHist( [hsv], [0, 1], None, [180, 256], [0, 180, 0, 256] )\n",
    " \n",
    "# Mengatur ukuran figure untuk tampilan yang lebih besar\n",
    "\n",
    "# Menampilkan gambar asli\n",
    "\n",
    "# Menampilkan histogram 2D untuk Hue dan Saturation"
   ]
  },
  {
   "cell_type": "markdown",
   "metadata": {},
   "source": [
    "## Histogram Backprojection"
   ]
  },
  {
   "cell_type": "code",
   "execution_count": 28,
   "metadata": {},
   "outputs": [],
   "source": [
    "# Membaca gambar yang dijadikan ROI dan mengubah format dari BGR ke HSV\n",
    "# contoh kode\n",
    "# roi = cv2.imread('image/rose.jpg')\n",
    "# assert roi is not None, \"file could not be read, check with os.path.exists()\"\n",
    "# hsv = cv.cvtColor(roi,cv.COLOR_BGR2HSV)\n",
    " \n",
    "# Membaca gambar yang akan dicari kemiripan gambarnya dengan backprojection\n",
    "# contoh kode\n",
    "# target = cv2.imread('image/mawar.jpg')\n",
    "# assert target is not None, \"file could not be read, check with os.path.exists()\"\n",
    "# hsvt = cv.cvtColor(target,cv.COLOR_BGR2HSV)\n"
   ]
  },
  {
   "cell_type": "code",
   "execution_count": 29,
   "metadata": {},
   "outputs": [],
   "source": [
    " \n",
    "# Menghitung histogram objek (Hue & Saturation)\n",
    "# roihist = cv2.calcHist([hsv],[0, 1], None, [....], [....] )\n",
    "\n",
    "# Normalisasi histogram\n",
    "# cv2.normalize(roihist,roihist,0,255,cv.NORM_MINMAX)\n",
    "\n",
    "# Melakukan backprojection\n",
    "# dst = cv2.calcBackProject([hsvt],[0,1],roihist,[....],1)\n",
    "\n",
    "# Menghaluskan hasil backprojection\n",
    "# disc = cv2.getStructuringElement(cv2.MORPH_ELLIPSE,(5,5))\n",
    "# cv2.filter2D(dst,-1,disc,dst)\n",
    "\n",
    "# Thresholding dan operasi bitwise AND\n",
    "# ret,thresh = cv2.threshold(dst,50,255,0)\n",
    "# thresh = cv2.merge((thresh,thresh,thresh))\n",
    "# res = cv2.bitwise_and(target,thresh)\n",
    "\n",
    "# Menyusun hasil akhir untuk visualisasi\n",
    "# res =\n",
    "\n",
    "# Menampilkan hasi backprojection"
   ]
  },
  {
   "cell_type": "code",
   "execution_count": null,
   "metadata": {},
   "outputs": [],
   "source": []
  }
 ],
 "metadata": {
  "kernelspec": {
   "display_name": "college",
   "language": "python",
   "name": "python3"
  },
  "language_info": {
   "codemirror_mode": {
    "name": "ipython",
    "version": 3
   },
   "file_extension": ".py",
   "mimetype": "text/x-python",
   "name": "python",
   "nbconvert_exporter": "python",
   "pygments_lexer": "ipython3",
   "version": "3.12.9"
  }
 },
 "nbformat": 4,
 "nbformat_minor": 2
}
